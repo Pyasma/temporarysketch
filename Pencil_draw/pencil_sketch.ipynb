{
 "cells": [
  {
   "cell_type": "code",
   "execution_count": 10,
   "metadata": {},
   "outputs": [],
   "source": [
    "#Importing Libraries\n",
    "from flask import Flask, render_template, Response \n",
    "import os\n",
    "from flask import flash, redirect, request, url_for\n",
    "from PIL import ImageTk, Image\n",
    "import cv2\n",
    "import numpy as np\n",
    "\n"
   ]
  },
  {
   "cell_type": "code",
   "execution_count": 11,
   "metadata": {},
   "outputs": [],
   "source": [
    "app=Flask(__name__)\n",
    "\n",
    "UPLOAD_FOLDER = 'uploads'\n",
    "ALLOWED_EXTENSIONS = {'png', 'jpg', 'jpeg'}\n",
    "\n",
    "app.config['UPLOAD_FOLDER'] = UPLOAD_FOLDER\n",
    "\n",
    "def allowed_file(filename):\n",
    "    return '.' in filename and \\\n",
    "    filename.rsplit('.', 1)[1].lower() in ALLOWED_EXTENSIONS"
   ]
  },
  {
   "cell_type": "code",
   "execution_count": 12,
   "metadata": {},
   "outputs": [],
   "source": [
    "def convert_to_sketch(image_path):\n",
    "    image=cv2.imread(image_path)\n",
    "\n",
    "    gray=cv2.cvtColor(image,cv2.COLOR_BGR2GRAY)\n",
    "\n",
    "    inverted = cv2.bitwise_not(gray)\n",
    "\n",
    "    blurred = cv2.GaussianBlur(inverted, (21, 21), 0)\n",
    "\n",
    "    sketch = cv2.bitwise_not(blurred)\n",
    "\n",
    "    return sketch"
   ]
  },
  {
   "cell_type": "code",
   "execution_count": 13,
   "metadata": {},
   "outputs": [],
   "source": [
    "\n",
    "\n",
    "\n",
    "@app.route('/', methods=['GET','POST'])\n",
    "def upload_file():\n",
    "    if request.method == 'POST':\n",
    "        if 'file' not in request.files:\n",
    "            return render_template('index.html', error='No file attached')\n",
    "        \n",
    "        file=request.files['file']\n",
    "\n",
    "        if file.filename == '' or not allowed_file(file.filename):\n",
    "            return render_template('index.html', error='No file selected or invalid file type')\n",
    "            \n",
    "\n",
    "        filename = file.filename\n",
    "\n",
    "        file_path = os.path.join(app.config['UPLOAD_FOLDER'],filename))\n",
    "\n",
    "        file.save(file_path)\n",
    "\n",
    "        sketch=convert_to_sketch(file_path)\n",
    "\n",
    "        cv2.imwrite(sketch_path,sketch)\n",
    "\n",
    "        return render_template('result.html',sketch=sketch_path)\n",
    "    return render_template('index.html')\n",
    "if __name__ == '__main__':\n",
    "    app.run(debug=True)\n"
   ]
  },
  {
   "cell_type": "code",
   "execution_count": null,
   "metadata": {},
   "outputs": [],
   "source": []
  }
 ],
 "metadata": {
  "kernelspec": {
   "display_name": "Pranya-jOpgJgeT",
   "language": "python",
   "name": "python3"
  },
  "language_info": {
   "codemirror_mode": {
    "name": "ipython",
    "version": 3
   },
   "file_extension": ".py",
   "mimetype": "text/x-python",
   "name": "python",
   "nbconvert_exporter": "python",
   "pygments_lexer": "ipython3",
   "version": "3.11.2"
  },
  "orig_nbformat": 4
 },
 "nbformat": 4,
 "nbformat_minor": 2
}
